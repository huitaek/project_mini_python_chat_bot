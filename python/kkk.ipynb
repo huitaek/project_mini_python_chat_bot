{
 "cells": [
  {
   "cell_type": "code",
   "execution_count": null,
   "metadata": {},
   "outputs": [],
   "source": [
    "import requests\n",
    "from bs4 import BeautifulSoup\n",
    "from selenium import webdriver\n",
    "from selenium.webdriver.common.by import By\n",
    "import re\n",
    "\n"
   ]
  },
  {
   "cell_type": "code",
   "execution_count": null,
   "metadata": {},
   "outputs": [],
   "source": [
    "url ='https://www.koreabaseball.com/Schedule/Schedule.aspx?seriesId=0,9'"
   ]
  },
  {
   "cell_type": "code",
   "execution_count": null,
   "metadata": {},
   "outputs": [],
   "source": [
    "driver = webdriver.Chrome('chromedriver')\n",
    "driver.maximize_window()\n",
    "\n"
   ]
  },
  {
   "cell_type": "code",
   "execution_count": null,
   "metadata": {},
   "outputs": [],
   "source": [
    "month_list =['04','05','06','07','08','09','10']\n",
    "for i in range(2001,2022):\n",
    "    driver.find_element(By.XPATH, '//*[@id=\"ddlYear\"]').send_keys('2016')\n",
    "    for j in month_list:\n",
    "        driver.find_element(By.XPATH, '//*[@id=\"ddlMonth\"]').send_keys('06')\n",
    "        elem = driver.find_element(By.XPATH, '//*[@id=\"tblSchedule\"]')\n",
    "        print(elem.text)\n",
    "        \n",
    "\n"
   ]
  },
  {
   "cell_type": "code",
   "execution_count": null,
   "metadata": {},
   "outputs": [],
   "source": [
    "driver.get(url)\n",
    "html = BeautifulSoup(driver.page_source,'lxml')"
   ]
  },
  {
   "cell_type": "code",
   "execution_count": null,
   "metadata": {},
   "outputs": [],
   "source": [
    "driver.find_element(By.XPATH, '//*[@id=\"ddlYear\"]').send_keys('2016')\n",
    "driver.find_element(By.XPATH, '//*[@id=\"ddlMonth\"]').send_keys('06')\n",
    "\n",
    "elem = BeautifulSoup(driver.page_source,'lxml').find('tbody')\n",
    "date = elem.find_all(\"td\", {\"class\": \"day\"})\n",
    "play = elem.find_all(\"td\", {\"class\": \"play\"})\n",
    "tds = elem.find_all(\"td\")\n",
    "place = tds[7].text\n",
    "win =[]\n",
    "lose =[]\n",
    "for i in range(len(play)):\n",
    "    # if len(play[i].text.split('vs'))<=4:\n",
    "    #     continue\n",
    "   \n",
    "    if len(play[i].text.split('vs')[0]) <3 or len(play[i].text.split('vs')[1]) <3:\n",
    "        continue\n",
    "    team1 = int(re.findall(r'\\d+',play[i].text.split('vs')[0])[0])\n",
    "    team2 = int(re.findall(r'\\d+',play[i].text.split('vs')[1])[0])\n",
    "    print(team1, team2)\n",
    "    \n",
    "    a = 'There are 10 dogs' \n",
    "    c = [i for i in a if i.isalpha()] \n",
    "    c = ''.join(c)\n",
    "\n",
    "    if team1>team2 :\n",
    "        win.append(play[i].text.split('vs')[0])\n",
    "        lose.append(play[i].text.split('vs')[1][1:])\n",
    "    else:\n",
    "        win.append(play[i].text.split('vs')[1][1:])\n",
    "        lose.append(play[i].text.split('vs')[0][0:-1])\n",
    "\n",
    "for i in range(len(date)):\n",
    "    print(win[i], lose[i])\n"
   ]
  },
  {
   "cell_type": "code",
   "execution_count": null,
   "metadata": {},
   "outputs": [],
   "source": [
    "table = html.find(\"table\", {\"id\":\"tblSchedule\"})\n",
    "table.text"
   ]
  }
 ],
 "metadata": {
  "language_info": {
   "name": "python"
  },
  "orig_nbformat": 4
 },
 "nbformat": 4,
 "nbformat_minor": 2
}
