{
 "cells": [
  {
   "cell_type": "code",
   "execution_count": 1,
   "metadata": {},
   "outputs": [],
   "source": [
    "import requests\n",
    "from bs4 import BeautifulSoup\n",
    "from selenium import webdriver\n",
    "from selenium.webdriver.common.by import By\n",
    "import re\n",
    "from time import sleep\n",
    "from selenium.webdriver.support.ui import WebDriverWait\n",
    "from selenium.webdriver.support import expected_conditions as EC\n",
    "import pandas as pd\n",
    "\n",
    "\n"
   ]
  },
  {
   "cell_type": "code",
   "execution_count": 2,
   "metadata": {},
   "outputs": [],
   "source": [
    "url ='https://www.kleague.com/schedule.do'\n",
    "driver = webdriver.Chrome('chromedriver')\n",
    "driver.maximize_window()\n",
    "\n",
    "driver.get(url)\n",
    "html = BeautifulSoup(driver.page_source,'lxml')\n"
   ]
  },
  {
   "cell_type": "code",
   "execution_count": 8,
   "metadata": {},
   "outputs": [
    {
     "name": "stdout",
     "output_type": "stream",
     "text": [
      "2013 02\n",
      "<td> <div class=\"team\"> <a href=\"/club/club.do?teamId=K09\" title=\"서울\"> <img alt=\"서울\" onerror=\"onEmblemError(this);\" src=\"/assets/images/emblem/K09_32.png\" srcset=\"/assets/images/emblem/K09_32.png 1x ,/assets/images/emblem/K09_32@2x.png 2x,/assets/images/emblem/K09_32@3x.png 3x\"/> </a> <span class=\"name\">서울</span> </div> <div class=\"score roboto\">      2<span class=\"at\">:</span>2    </div> <div class=\"team\"> <span class=\"name\">포항</span> <a href=\"/club/club.do?teamId=K03\" title=\"포항\"> <img alt=\"포항\" onerror=\"onEmblemError(this);\" src=\"/assets/images/emblem/K03_32.png\" srcset=\"/assets/images/emblem/K03_32.png 1x ,/assets/images/emblem/K03_32@2x.png 2x,/assets/images/emblem/K03_32@3x.png 3x\"/> </a> </div><span class=\"label red\">경기종료</span></td>\n",
      "2013 03\n",
      "<td> <div class=\"team\"> <a href=\"/club/club.do?teamId=K09\" title=\"서울\"> <img alt=\"서울\" onerror=\"onEmblemError(this);\" src=\"/assets/images/emblem/K09_32.png\" srcset=\"/assets/images/emblem/K09_32.png 1x ,/assets/images/emblem/K09_32@2x.png 2x,/assets/images/emblem/K09_32@3x.png 3x\"/> </a> <span class=\"name\">서울</span> </div> <div class=\"score roboto\">      2<span class=\"at\">:</span>2    </div> <div class=\"team\"> <span class=\"name\">포항</span> <a href=\"/club/club.do?teamId=K03\" title=\"포항\"> <img alt=\"포항\" onerror=\"onEmblemError(this);\" src=\"/assets/images/emblem/K03_32.png\" srcset=\"/assets/images/emblem/K03_32.png 1x ,/assets/images/emblem/K03_32@2x.png 2x,/assets/images/emblem/K03_32@3x.png 3x\"/> </a> </div><span class=\"label red\">경기종료</span></td>\n",
      "2013 04\n",
      "<td> <div class=\"team\"> <a href=\"/club/club.do?teamId=K09\" title=\"서울\"> <img alt=\"서울\" onerror=\"onEmblemError(this);\" src=\"/assets/images/emblem/K09_32.png\" srcset=\"/assets/images/emblem/K09_32.png 1x ,/assets/images/emblem/K09_32@2x.png 2x,/assets/images/emblem/K09_32@3x.png 3x\"/> </a> <span class=\"name\">서울</span> </div> <div class=\"score roboto\">      2<span class=\"at\">:</span>2    </div> <div class=\"team\"> <span class=\"name\">포항</span> <a href=\"/club/club.do?teamId=K03\" title=\"포항\"> <img alt=\"포항\" onerror=\"onEmblemError(this);\" src=\"/assets/images/emblem/K03_32.png\" srcset=\"/assets/images/emblem/K03_32.png 1x ,/assets/images/emblem/K03_32@2x.png 2x,/assets/images/emblem/K03_32@3x.png 3x\"/> </a> </div><span class=\"label red\">경기종료</span></td>\n",
      "2013 05\n",
      "<td> <div class=\"team\"> <a href=\"/club/club.do?teamId=K09\" title=\"서울\"> <img alt=\"서울\" onerror=\"onEmblemError(this);\" src=\"/assets/images/emblem/K09_32.png\" srcset=\"/assets/images/emblem/K09_32.png 1x ,/assets/images/emblem/K09_32@2x.png 2x,/assets/images/emblem/K09_32@3x.png 3x\"/> </a> <span class=\"name\">서울</span> </div> <div class=\"score roboto\">      2<span class=\"at\">:</span>2    </div> <div class=\"team\"> <span class=\"name\">포항</span> <a href=\"/club/club.do?teamId=K03\" title=\"포항\"> <img alt=\"포항\" onerror=\"onEmblemError(this);\" src=\"/assets/images/emblem/K03_32.png\" srcset=\"/assets/images/emblem/K03_32.png 1x ,/assets/images/emblem/K03_32@2x.png 2x,/assets/images/emblem/K03_32@3x.png 3x\"/> </a> </div><span class=\"label red\">경기종료</span></td>\n",
      "2013 06\n",
      "<td> <div class=\"team\"> <a href=\"/club/club.do?teamId=K09\" title=\"서울\"> <img alt=\"서울\" onerror=\"onEmblemError(this);\" src=\"/assets/images/emblem/K09_32.png\" srcset=\"/assets/images/emblem/K09_32.png 1x ,/assets/images/emblem/K09_32@2x.png 2x,/assets/images/emblem/K09_32@3x.png 3x\"/> </a> <span class=\"name\">서울</span> </div> <div class=\"score roboto\">      2<span class=\"at\">:</span>2    </div> <div class=\"team\"> <span class=\"name\">포항</span> <a href=\"/club/club.do?teamId=K03\" title=\"포항\"> <img alt=\"포항\" onerror=\"onEmblemError(this);\" src=\"/assets/images/emblem/K03_32.png\" srcset=\"/assets/images/emblem/K03_32.png 1x ,/assets/images/emblem/K03_32@2x.png 2x,/assets/images/emblem/K03_32@3x.png 3x\"/> </a> </div><span class=\"label red\">경기종료</span></td>\n",
      "2013 07\n",
      "<td> <div class=\"team\"> <a href=\"/club/club.do?teamId=K09\" title=\"서울\"> <img alt=\"서울\" onerror=\"onEmblemError(this);\" src=\"/assets/images/emblem/K09_32.png\" srcset=\"/assets/images/emblem/K09_32.png 1x ,/assets/images/emblem/K09_32@2x.png 2x,/assets/images/emblem/K09_32@3x.png 3x\"/> </a> <span class=\"name\">서울</span> </div> <div class=\"score roboto\">      2<span class=\"at\">:</span>2    </div> <div class=\"team\"> <span class=\"name\">포항</span> <a href=\"/club/club.do?teamId=K03\" title=\"포항\"> <img alt=\"포항\" onerror=\"onEmblemError(this);\" src=\"/assets/images/emblem/K03_32.png\" srcset=\"/assets/images/emblem/K03_32.png 1x ,/assets/images/emblem/K03_32@2x.png 2x,/assets/images/emblem/K03_32@3x.png 3x\"/> </a> </div><span class=\"label red\">경기종료</span></td>\n",
      "2013 08\n",
      "<td> <div class=\"team\"> <a href=\"/club/club.do?teamId=K09\" title=\"서울\"> <img alt=\"서울\" onerror=\"onEmblemError(this);\" src=\"/assets/images/emblem/K09_32.png\" srcset=\"/assets/images/emblem/K09_32.png 1x ,/assets/images/emblem/K09_32@2x.png 2x,/assets/images/emblem/K09_32@3x.png 3x\"/> </a> <span class=\"name\">서울</span> </div> <div class=\"score roboto\">      2<span class=\"at\">:</span>2    </div> <div class=\"team\"> <span class=\"name\">포항</span> <a href=\"/club/club.do?teamId=K03\" title=\"포항\"> <img alt=\"포항\" onerror=\"onEmblemError(this);\" src=\"/assets/images/emblem/K03_32.png\" srcset=\"/assets/images/emblem/K03_32.png 1x ,/assets/images/emblem/K03_32@2x.png 2x,/assets/images/emblem/K03_32@3x.png 3x\"/> </a> </div><span class=\"label red\">경기종료</span></td>\n",
      "2014 02\n"
     ]
    },
    {
     "ename": "IndexError",
     "evalue": "list index out of range",
     "output_type": "error",
     "traceback": [
      "\u001b[1;31m---------------------------------------------------------------------------\u001b[0m",
      "\u001b[1;31mIndexError\u001b[0m                                Traceback (most recent call last)",
      "\u001b[1;32m~\\AppData\\Local\\Temp/ipykernel_35616/3619243544.py\u001b[0m in \u001b[0;36m<module>\u001b[1;34m\u001b[0m\n\u001b[0;32m     16\u001b[0m         \u001b[0mprint\u001b[0m\u001b[1;33m(\u001b[0m\u001b[0mk\u001b[0m \u001b[1;33m,\u001b[0m \u001b[0mj\u001b[0m\u001b[1;33m)\u001b[0m\u001b[1;33m\u001b[0m\u001b[1;33m\u001b[0m\u001b[0m\n\u001b[0;32m     17\u001b[0m         \u001b[0mtds\u001b[0m \u001b[1;33m=\u001b[0m \u001b[0melem\u001b[0m\u001b[1;33m.\u001b[0m\u001b[0mfind_all\u001b[0m\u001b[1;33m(\u001b[0m\u001b[1;34m\"td\"\u001b[0m\u001b[1;33m)\u001b[0m\u001b[1;33m\u001b[0m\u001b[1;33m\u001b[0m\u001b[0m\n\u001b[1;32m---> 18\u001b[1;33m         \u001b[0mprint\u001b[0m\u001b[1;33m(\u001b[0m\u001b[0mtds\u001b[0m\u001b[1;33m[\u001b[0m\u001b[1;36m2\u001b[0m\u001b[1;33m]\u001b[0m\u001b[1;33m)\u001b[0m\u001b[1;33m\u001b[0m\u001b[1;33m\u001b[0m\u001b[0m\n\u001b[0m\u001b[0;32m     19\u001b[0m \u001b[1;33m\u001b[0m\u001b[0m\n\u001b[0;32m     20\u001b[0m \u001b[1;33m\u001b[0m\u001b[0m\n",
      "\u001b[1;31mIndexError\u001b[0m: list index out of range"
     ]
    }
   ],
   "source": [
    "### 축구다!!! 야구건들지마라!!!\n",
    "\n",
    "month_list =['02','03','04','05','06','07','08']\n",
    "dates =[]\n",
    "win =[]\n",
    "lose =[]\n",
    "places =[]\n",
    "\n",
    "for k in range(2013,2022):\n",
    "    driver.find_element(By.XPATH, '//*[@id=\"year\"]').send_keys(str(k))\n",
    "    for j in month_list:\n",
    "        driver.find_element(By.XPATH, '//*[@id=\"month\"]').send_keys(j)\n",
    "        # elem = WebDriverWait(driver,1).until(EC.presence_of_element_located((By.XPATH,'#tblSchedule > tbody > tr')))        \n",
    "        elem = BeautifulSoup(driver.page_source,'lxml').find('tbody')\n",
    "        driver.implicitly_wait(1)\n",
    "        print(k , j)\n",
    "        trs = elem.find_all(\"tr\")\n",
    "        for tr in trs:\n",
    "            tds = tr.find_all(\"td\")\n",
    "      \n",
    "\n",
    "        # for i in range(len(play)):\n",
    "            \n",
    "        #     if len(play[i].text.split('vs')[0]) <3 or len(play[i].text.split('vs')[1]) <3:\n",
    "        #         continue\n",
    "                \n",
    "        #     team1 = int(re.findall(r'\\d+',play[i].text.split('vs')[0])[0])\n",
    "        #     team2 = int(re.findall(r'\\d+',play[i].text.split('vs')[1])[0])\n",
    "        #     # print(team1,team2)\n",
    "        #     t1 = play[i].text.split('vs')[0]\n",
    "        #     t1 = ''.join([i for i in t1 if not i.isdigit()])\n",
    "\n",
    "        #     t2 = play[i].text.split('vs')[1]\n",
    "        #     t2 = ''.join([i for i in t2 if not i.isdigit()])\n",
    "        #     # print(t1,t2)\n",
    "\n",
    "\n",
    "        #     if team1>team2 :\n",
    "        #         win.append(t1)\n",
    "        #         lose.append(t2)\n",
    "        #     else:\n",
    "        #         win.append(t2)\n",
    "        #         lose.append(t1)\n",
    "        #     place = trs[i].find_all(\"td\")[-2].text\n",
    "        #     places.append(place)\n",
    "    \n",
    "\n",
    "\n",
    " "
   ]
  },
  {
   "cell_type": "code",
   "execution_count": 13,
   "metadata": {},
   "outputs": [],
   "source": [
    "url ='https://www.kleague.com/schedule.do'\n",
    "driver = webdriver.Chrome('chromedriver')\n",
    "driver.maximize_window()\n",
    "\n",
    "driver.get(url)\n",
    "html = BeautifulSoup(driver.page_source,'lxml')\n"
   ]
  },
  {
   "cell_type": "code",
   "execution_count": 14,
   "metadata": {},
   "outputs": [],
   "source": [
    "driver.find_element(By.XPATH, '//*[@id=\"year\"]').send_keys(str(2020))\n",
    "driver.find_element(By.XPATH, '//*[@id=\"month\"]').send_keys(3)\n",
    "        # elem = WebDriverWait(driver,1).until(EC.presence_of_element_located((By.XPATH,'#tblSchedule > tbody > tr')))        \n",
    "elem = BeautifulSoup(driver.page_source,'lxml').find('tbody')\n",
    "trs = elem.find_all(\"tr\")\n",
    "for tr in trs:\n",
    "    print(tr.text)"
   ]
  },
  {
   "cell_type": "code",
   "execution_count": null,
   "metadata": {},
   "outputs": [],
   "source": []
  }
 ],
 "metadata": {
  "interpreter": {
   "hash": "183bbf6827d058c2a2fb0f4acdc0420849dda2b4380af0e437e38c64d798d8b7"
  },
  "kernelspec": {
   "display_name": "Python 3.9.7 64-bit ('base': conda)",
   "language": "python",
   "name": "python3"
  },
  "language_info": {
   "codemirror_mode": {
    "name": "ipython",
    "version": 3
   },
   "file_extension": ".py",
   "mimetype": "text/x-python",
   "name": "python",
   "nbconvert_exporter": "python",
   "pygments_lexer": "ipython3",
   "version": "3.9.7"
  },
  "orig_nbformat": 4
 },
 "nbformat": 4,
 "nbformat_minor": 2
}
