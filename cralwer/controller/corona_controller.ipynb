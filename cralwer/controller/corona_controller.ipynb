{
 "cells": [
  {
   "cell_type": "code",
   "execution_count": null,
   "metadata": {},
   "outputs": [],
   "source": [
    "import selenium\n",
    "import matplotlib.pyplot as plt\n",
    "import bs4\n",
    "import requests"
   ]
  },
  {
   "cell_type": "code",
   "execution_count": null,
   "metadata": {},
   "outputs": [],
   "source": [
    "key = 'IB2mN81DYgMz3tul9ZUqnOAE4exprPi6Q' \n",
    "base_url = 'https://api.corona-19.kr/korea/country/new/?serviceKey='\n",
    "res = requests.get(''.join([base_url,key])).json()\n",
    "\n",
    "res"
   ]
  }
 ],
 "metadata": {
  "interpreter": {
   "hash": "6ae55dcb995b1a455acb67ab8be826283ef343846457127e4e56e9f0f58bd2bf"
  },
  "kernelspec": {
   "display_name": "Python 3.9.7 ('crawling')",
   "language": "python",
   "name": "python3"
  },
  "language_info": {
   "codemirror_mode": {
    "name": "ipython",
    "version": 3
   },
   "file_extension": ".py",
   "mimetype": "text/x-python",
   "name": "python",
   "nbconvert_exporter": "python",
   "pygments_lexer": "ipython3",
   "version": "3.9.7"
  },
  "orig_nbformat": 4
 },
 "nbformat": 4,
 "nbformat_minor": 2
}
