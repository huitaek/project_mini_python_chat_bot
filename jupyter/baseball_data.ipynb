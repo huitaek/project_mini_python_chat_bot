{
 "cells": [
  {
   "cell_type": "code",
   "execution_count": 27,
   "metadata": {},
   "outputs": [],
   "source": [
    "import requests\n",
    "from bs4 import BeautifulSoup\n",
    "from selenium import webdriver\n",
    "from selenium.webdriver.common.by import By\n",
    "import re\n",
    "from time import sleep\n",
    "from selenium.webdriver.support.ui import WebDriverWait\n",
    "from selenium.webdriver.support import expected_conditions as EC\n",
    "import pandas as pd\n",
    "\n",
    "\n"
   ]
  },
  {
   "cell_type": "code",
   "execution_count": 83,
   "metadata": {},
   "outputs": [],
   "source": [
    "url ='https://www.koreabaseball.com/Schedule/Schedule.aspx?seriesId=0,9'\n",
    "driver = webdriver.Chrome('chromedriver')\n",
    "driver.maximize_window()\n",
    "\n",
    "driver.get(url)\n",
    "html = BeautifulSoup(driver.page_source,'lxml')\n"
   ]
  },
  {
   "cell_type": "code",
   "execution_count": 84,
   "metadata": {},
   "outputs": [],
   "source": [
    "### 야구다 야구!!!!!!!!\n",
    "month_list =['04','05','06','07','08','09','10']\n",
    "dates =[]\n",
    "win =[]\n",
    "lose =[]\n",
    "places =[]\n",
    "\n",
    "for k in range(2001,2022):\n",
    "    driver.find_element(By.XPATH, '//*[@id=\"ddlYear\"]').send_keys(str(k))\n",
    "    for j in month_list:\n",
    "        driver.find_element(By.XPATH, '//*[@id=\"ddlMonth\"]').send_keys(j)\n",
    "        # elem = WebDriverWait(driver,1).until(EC.presence_of_element_located((By.XPATH,'#tblSchedule > tbody > tr')))        \n",
    "        elem = BeautifulSoup(driver.page_source,'lxml').find('tbody')\n",
    "        driver.implicitly_wait(1)\n",
    "\n",
    "        date = elem.find_all(\"td\", {\"class\": \"day\"})\n",
    "        play = elem.find_all(\"td\", {\"class\": \"play\"})\n",
    "        trs = elem.find_all(\"tr\")\n",
    "\n",
    "        for i in range(len(play)):\n",
    "            \n",
    "            if len(play[i].text.split('vs')[0]) <3 or len(play[i].text.split('vs')[1]) <3:\n",
    "                continue\n",
    "                \n",
    "            team1 = int(re.findall(r'\\d+',play[i].text.split('vs')[0])[0])\n",
    "            team2 = int(re.findall(r'\\d+',play[i].text.split('vs')[1])[0])\n",
    "            # print(team1,team2)\n",
    "            t1 = play[i].text.split('vs')[0]\n",
    "            t1 = ''.join([i for i in t1 if not i.isdigit()])\n",
    "\n",
    "            t2 = play[i].text.split('vs')[1]\n",
    "            t2 = ''.join([i for i in t2 if not i.isdigit()])\n",
    "            # print(t1,t2)\n",
    "\n",
    "\n",
    "            if team1>team2 :\n",
    "                win.append(t1)\n",
    "                lose.append(t2)\n",
    "            else:\n",
    "                win.append(t2)\n",
    "                lose.append(t1)\n",
    "            place = trs[i].find_all(\"td\")[-2].text\n",
    "            places.append(place)\n",
    "    \n",
    "\n",
    "\n",
    " "
   ]
  },
  {
   "cell_type": "code",
   "execution_count": 85,
   "metadata": {},
   "outputs": [],
   "source": [
    "data = []"
   ]
  },
  {
   "cell_type": "code",
   "execution_count": 86,
   "metadata": {},
   "outputs": [
    {
     "name": "stdout",
     "output_type": "stream",
     "text": [
      "14291\n"
     ]
    }
   ],
   "source": [
    "for i in range(len(win)):\n",
    "    data.append({\"win\" : win[i] ,\"lose\" :lose[i] , \"place\":places[i]})\n",
    "    \n",
    "print(len(data))"
   ]
  },
  {
   "cell_type": "code",
   "execution_count": 87,
   "metadata": {},
   "outputs": [
    {
     "data": {
      "text/html": [
       "<div>\n",
       "<style scoped>\n",
       "    .dataframe tbody tr th:only-of-type {\n",
       "        vertical-align: middle;\n",
       "    }\n",
       "\n",
       "    .dataframe tbody tr th {\n",
       "        vertical-align: top;\n",
       "    }\n",
       "\n",
       "    .dataframe thead th {\n",
       "        text-align: right;\n",
       "    }\n",
       "</style>\n",
       "<table border=\"1\" class=\"dataframe\">\n",
       "  <thead>\n",
       "    <tr style=\"text-align: right;\">\n",
       "      <th></th>\n",
       "      <th>win</th>\n",
       "      <th>lose</th>\n",
       "      <th>place</th>\n",
       "    </tr>\n",
       "  </thead>\n",
       "  <tbody>\n",
       "    <tr>\n",
       "      <th>0</th>\n",
       "      <td>SK</td>\n",
       "      <td>LG</td>\n",
       "      <td>인천</td>\n",
       "    </tr>\n",
       "    <tr>\n",
       "      <th>1</th>\n",
       "      <td>두산</td>\n",
       "      <td>KIA</td>\n",
       "      <td>잠실</td>\n",
       "    </tr>\n",
       "    <tr>\n",
       "      <th>2</th>\n",
       "      <td>롯데</td>\n",
       "      <td>현대</td>\n",
       "      <td>수원</td>\n",
       "    </tr>\n",
       "    <tr>\n",
       "      <th>3</th>\n",
       "      <td>삼성</td>\n",
       "      <td>한화</td>\n",
       "      <td>시민</td>\n",
       "    </tr>\n",
       "    <tr>\n",
       "      <th>4</th>\n",
       "      <td>삼성</td>\n",
       "      <td>한화</td>\n",
       "      <td>시민</td>\n",
       "    </tr>\n",
       "    <tr>\n",
       "      <th>...</th>\n",
       "      <td>...</td>\n",
       "      <td>...</td>\n",
       "      <td>...</td>\n",
       "    </tr>\n",
       "    <tr>\n",
       "      <th>14286</th>\n",
       "      <td>두산</td>\n",
       "      <td>SSG</td>\n",
       "      <td>잠실</td>\n",
       "    </tr>\n",
       "    <tr>\n",
       "      <th>14287</th>\n",
       "      <td>한화</td>\n",
       "      <td>롯데</td>\n",
       "      <td>사직</td>\n",
       "    </tr>\n",
       "    <tr>\n",
       "      <th>14288</th>\n",
       "      <td>삼성</td>\n",
       "      <td>LG</td>\n",
       "      <td>대구</td>\n",
       "    </tr>\n",
       "    <tr>\n",
       "      <th>14289</th>\n",
       "      <td>KT</td>\n",
       "      <td>KIA</td>\n",
       "      <td>수원</td>\n",
       "    </tr>\n",
       "    <tr>\n",
       "      <th>14290</th>\n",
       "      <td>키움</td>\n",
       "      <td>NC</td>\n",
       "      <td>창원</td>\n",
       "    </tr>\n",
       "  </tbody>\n",
       "</table>\n",
       "<p>14291 rows × 3 columns</p>\n",
       "</div>"
      ],
      "text/plain": [
       "      win lose place\n",
       "0      SK   LG    인천\n",
       "1      두산  KIA    잠실\n",
       "2      롯데   현대    수원\n",
       "3      삼성   한화    시민\n",
       "4      삼성   한화    시민\n",
       "...    ..  ...   ...\n",
       "14286  두산  SSG    잠실\n",
       "14287  한화   롯데    사직\n",
       "14288  삼성   LG    대구\n",
       "14289  KT  KIA    수원\n",
       "14290  키움   NC    창원\n",
       "\n",
       "[14291 rows x 3 columns]"
      ]
     },
     "execution_count": 87,
     "metadata": {},
     "output_type": "execute_result"
    }
   ],
   "source": [
    "data_set = pd.DataFrame(data)\n",
    "data_set"
   ]
  },
  {
   "cell_type": "code",
   "execution_count": 35,
   "metadata": {},
   "outputs": [],
   "source": [
    "data_set.to_csv(\"./kbo_history.csv\", index = False, encoding = 'cp949')"
   ]
  },
  {
   "cell_type": "code",
   "execution_count": 88,
   "metadata": {},
   "outputs": [
    {
     "name": "stdout",
     "output_type": "stream",
     "text": [
      "한화와(과) SK의 경기에서 한화의 승률은 : 40.60%\n"
     ]
    }
   ],
   "source": [
    "def winning_rate(team1, team2):\n",
    "    condition = ((data_set.win == team1) & (data_set.lose == team2)) | ((data_set.win == team2) & (data_set.lose == team1))\n",
    "    df = data_set[condition]\n",
    "    total = len(df)\n",
    "    win=len(df[df.win ==team1])\n",
    "    print(\"%s와(과) %s의 경기에서 %s의 승률은 : %.2f%%\" %(team1, team2, team1, win/total * 100))\n",
    "\n",
    "winning_rate(\"한화\", \"SK\")\n",
    "\n"
   ]
  },
  {
   "cell_type": "code",
   "execution_count": 76,
   "metadata": {},
   "outputs": [
    {
     "data": {
      "text/plain": [
       "array(['사직', '시민', '마산', '대구', '울산', '포항'], dtype=object)"
      ]
     },
     "execution_count": 76,
     "metadata": {},
     "output_type": "execute_result"
    }
   ],
   "source": [
    "condition = ((data_set.win == '삼성') & (data_set.lose == '롯데')) | ((data_set.win == '롯데') & (data_set.lose == '삼성'))\n",
    "df = data_set[condition]\n",
    "df['place'].unique()"
   ]
  },
  {
   "cell_type": "markdown",
   "metadata": {},
   "source": []
  }
 ],
 "metadata": {
  "interpreter": {
   "hash": "183bbf6827d058c2a2fb0f4acdc0420849dda2b4380af0e437e38c64d798d8b7"
  },
  "kernelspec": {
   "display_name": "Python 3.9.7 64-bit ('base': conda)",
   "language": "python",
   "name": "python3"
  },
  "language_info": {
   "codemirror_mode": {
    "name": "ipython",
    "version": 3
   },
   "file_extension": ".py",
   "mimetype": "text/x-python",
   "name": "python",
   "nbconvert_exporter": "python",
   "pygments_lexer": "ipython3",
   "version": "3.9.7"
  },
  "orig_nbformat": 4
 },
 "nbformat": 4,
 "nbformat_minor": 2
}
