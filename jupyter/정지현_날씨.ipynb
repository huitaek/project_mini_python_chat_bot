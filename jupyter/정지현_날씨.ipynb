{
 "cells": [
  {
   "cell_type": "code",
   "execution_count": 7,
   "metadata": {},
   "outputs": [],
   "source": [
    "import requests\n",
    "from bs4 import BeautifulSoup\n",
    "import pandas\n",
    "import matplotlib as mpl\n",
    "import matplotlib.pyplot as plt"
   ]
  },
  {
   "cell_type": "markdown",
   "metadata": {},
   "source": [
    "# 검색 지역 기온 및 습도"
   ]
  },
  {
   "cell_type": "code",
   "execution_count": 8,
   "metadata": {},
   "outputs": [
    {
     "name": "stdout",
     "output_type": "stream",
     "text": [
      "##############################\n",
      "\n",
      "===== 지역별 현재 기온과 습도입니다. =====\n",
      "\n",
      "##############################\n",
      "대구      8.6     32     \n",
      "##############################\n",
      "\n",
      "===== end =====\n",
      "\n",
      "##############################\n"
     ]
    }
   ],
   "source": [
    "def wheather():\n",
    "    source = requests.get('https://www.weather.go.kr/weather/observation/currentweather.jsp')\n",
    "    soup = BeautifulSoup(source.content,\"html.parser\")\n",
    "    \n",
    "    table = soup.find('table',{'class':'table_develop3'})\n",
    "    data = []\n",
    "    user = input(\"검색할 지역을 입력해주세요:\")\n",
    "\n",
    "    print(\"#\"*30)\n",
    "    print(\"\\n===== 지역별 현재 기온과 습도입니다. =====\\n\")\n",
    "    print(\"#\"*30)\n",
    "    \n",
    "    for tr in table.find_all('tr'):\n",
    "        tds = list(tr.find_all('td'))\n",
    "        for td in tds:\n",
    "            if td.find('a'):\n",
    "                point = td.find('a').text\n",
    "                if point == user:\n",
    "                    temp = tds[5].text\n",
    "                    humidity = tds[10].text\n",
    "                    print(\"{0:<7} {1:<7} {2:<7}\".format(point,temp,humidity))\n",
    "                    data.append([point,temp,humidity])\n",
    "        \n",
    "    print(\"#\"*30)\n",
    "    print(\"\\n===== end =====\\n\")\n",
    "    print(\"#\"*30)\n",
    "\n",
    "wheather()"
   ]
  },
  {
   "cell_type": "code",
   "execution_count": 9,
   "metadata": {},
   "outputs": [],
   "source": [
    "def allwheather():\n",
    "    source = requests.get('https://www.weather.go.kr/weather/observation/currentweather.jsp')\n",
    "    soup = BeautifulSoup(source.content,\"html.parser\")\n",
    "    \n",
    "    table = soup.find('table',{'class':'table_develop3'})\n",
    "    data = []\n",
    "\n",
    "    # print(\"#\"*30)\n",
    "    # print(\"\\n===== 지역별 현재 기온입니다. =====\\n\")\n",
    "    # print(\"#\"*30)\n",
    "    \n",
    "    for tr in table.find_all('tr'):\n",
    "        tds = list(tr.find_all('td'))\n",
    "\n",
    "        for td in tds:\n",
    "            if td.find('a'):\n",
    "                point = td.find('a').text\n",
    "                temp = tds[5].text\n",
    "                humidity = tds[10].text\n",
    "                print(\"{0:<7} {1:<7} {2:<7}\".format(point,temp,humidity))\n",
    "                data.append([point,temp,humidity])\n",
    "        \n",
    "    # print(\"#\"*30)\n",
    "    # print(\"\\n===== end =====\\n\")\n",
    "    # print(\"#\"*30)\n",
    "    return data\n",
    "#allwheather()"
   ]
  },
  {
   "cell_type": "markdown",
   "metadata": {},
   "source": [
    "# -지역별 기온 및 습도\n",
    "# -대도시별 기온 및 습도 그래프"
   ]
  },
  {
   "cell_type": "code",
   "execution_count": 10,
   "metadata": {},
   "outputs": [
    {
     "name": "stdout",
     "output_type": "stream",
     "text": [
      "강릉      9.5     40     \n",
      "강진군     9.7     40     \n",
      "강화      4.8     47     \n",
      "거제      9.2     43     \n",
      "거창      8.7     22     \n",
      "경주시     10.5    28     \n",
      "고산      8.0     74     \n",
      "고창      6.7     36     \n",
      "고창군     6.8     38     \n",
      "광양시     9.0     37     \n",
      "광주      8.5     35     \n",
      "군산      5.6     47     \n",
      "금산      8.6     23     \n",
      "김해시     10.2    27     \n",
      "남원      8.1     27     \n",
      "남해      8.5     42     \n",
      "대관령     3.4     17     \n",
      "대구      8.6     32     \n",
      "대전      8.7     21     \n",
      "동두천     5.5     28     \n",
      "목포      5.8     43     \n",
      "문경      6.4     31     \n",
      "밀양      10.2    22     \n",
      "백령도     4.2     44     \n",
      "보령      6.2     43     \n",
      "보성군     9.4     42     \n",
      "보은      7.0     19     \n",
      "봉화      6.8     28     \n",
      "부산      10.7    49     \n",
      "부안      6.3     42     \n",
      "부여      7.0     19     \n",
      "북창원     9.9     32     \n",
      "북춘천     5.2     20     \n",
      "산청      8.7     30     \n",
      "상주      7.2     28     \n",
      "서귀포     9.4     70     \n",
      "서산      6.6     40     \n",
      "서울      6.8     28     \n",
      "성산      8.8     69     \n",
      "세종      6.8     19     \n",
      "수원      6.4     24     \n",
      "순창군     8.3     35     \n",
      "순천      8.5     36     \n",
      "안동      7.2     29     \n",
      "양산시     10.9    27     \n",
      "양평      7.0     22     \n",
      "여수      9.0     40     \n",
      "영광군     6.3     40     \n",
      "영덕      7.4     46     \n",
      "영월      7.5     24     \n",
      "영주      6.9     33     \n",
      "영천      8.4     27     \n",
      "완도      9.0     44     \n",
      "울릉도     7.3     58     \n",
      "울산      8.2     43     \n",
      "울진      7.1     47     \n",
      "원주      6.3     20     \n",
      "의령군     9.6     23     \n",
      "의성      8.5     27     \n",
      "이천      6.6     24     \n",
      "인제      6.3     17     \n",
      "인천      4.9     38     \n",
      "임실      7.5     23     \n",
      "장수      6.9     21     \n",
      "장흥      9.6     37     \n",
      "전주      7.0     31     \n",
      "정선군     6.9     19     \n",
      "정읍      6.6     36     \n",
      "제주      8.4     70     \n",
      "제천      6.2     23     \n",
      "진도군     5.8     46     \n",
      "진주      9.6     34     \n",
      "창원      9.6     27     \n",
      "천안      7.2     19     \n",
      "철원      5.2     26     \n",
      "청송군     8.1     33     \n",
      "청주      7.4     21     \n",
      "추풍령     7.6     20     \n",
      "충주      6.5     27     \n",
      "태백      4.2     31     \n",
      "통영      9.9     39     \n",
      "파주      5.3     34     \n",
      "포항      8.1     51     \n",
      "함양군     9.5     16     \n",
      "합천      9.9     22     \n",
      "해남      7.1     40     \n",
      "홍성      6.9     31     \n",
      "홍천      6.4     22     \n",
      "흑산도     4.8     61     \n"
     ]
    },
    {
     "data": {
      "image/png": "[encoded data removed]",
      "text/plain": [
       "<Figure size 864x288 with 1 Axes>"
      ]
     },
     "metadata": {
      "needs_background": "light"
     },
     "output_type": "display_data"
    }
   ],
   "source": [
    "def graph():\n",
    "    data = allwheather()\n",
    "    with open('weather.csv','w') as f:\n",
    "        f.write('지역, 온도, 습도\\n')\n",
    "        for i in data:\n",
    "            f.write('{0},{1},{2}\\n'.format(i[0],i[1],i[2]))\n",
    "    \n",
    "    df = pandas.read_csv('weather.csv', index_col='지역' , encoding='utf-8')\n",
    "    \n",
    "    city_df = df.loc[['서울','인천','대전','대구','광주','부산','울산']]\n",
    "    \n",
    "    font_name = mpl.font_manager.FontProperties(fname='C:\\Windows\\Fonts\\malgun.ttf').get_name()\n",
    "    mpl.rc('font',family=font_name)\n",
    "    \n",
    "    ax = city_df.plot(kind='bar',title='날씨',figsize=(12,4),legend=True,fontsize=15)\n",
    "    ax.set_xlabel('도시',fontsize=15)\n",
    "    ax.set_ylabel('기온/습도',fontsize=15)\n",
    "    ax.legend(['기온','습도'],fontsize=15)\n",
    "    \n",
    "    plt.show()\n",
    "\n",
    "graph()"
   ]
  }
 ],
 "metadata": {
  "interpreter": {
   "hash": "e4997e6457fd206359092b599bea291d3dc401a2d445c11f3660ede0d25a0149"
  },
  "kernelspec": {
   "display_name": "Python 3.9.7 ('base')",
   "language": "python",
   "name": "python3"
  },
  "language_info": {
   "codemirror_mode": {
    "name": "ipython",
    "version": 3
   },
   "file_extension": ".py",
   "mimetype": "text/x-python",
   "name": "python",
   "nbconvert_exporter": "python",
   "pygments_lexer": "ipython3",
   "version": "3.9.7"
  },
  "orig_nbformat": 4
 },
 "nbformat": 4,
 "nbformat_minor": 2
}
