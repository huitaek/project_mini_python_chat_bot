{
 "cells": [
  {
   "cell_type": "code",
   "execution_count": 3,
   "metadata": {},
   "outputs": [],
   "source": [
    "from multiprocessing import Pool\n",
    "\n",
    "def f(x):\n",
    "    return x*x\n",
    "\n",
    "with Pool(5) as p:\n",
    "    print(p.map(f, [1, 2, 3]))"
   ]
  }
 ],
 "metadata": {
  "interpreter": {
   "hash": "6ae55dcb995b1a455acb67ab8be826283ef343846457127e4e56e9f0f58bd2bf"
  },
  "kernelspec": {
   "display_name": "Python 3.9.7 ('crawling')",
   "language": "python",
   "name": "python3"
  },
  "language_info": {
   "codemirror_mode": {
    "name": "ipython",
    "version": 3
   },
   "file_extension": ".py",
   "mimetype": "text/x-python",
   "name": "python",
   "nbconvert_exporter": "python",
   "pygments_lexer": "ipython3",
   "version": "3.9.7"
  },
  "orig_nbformat": 4
 },
 "nbformat": 4,
 "nbformat_minor": 2
}
